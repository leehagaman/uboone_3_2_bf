{
 "cells": [
  {
   "cell_type": "code",
   "execution_count": null,
   "metadata": {},
   "outputs": [],
   "source": [
    "import numpy as np\n",
    "import matplotlib.pyplot as plt\n",
    "import uproot\n",
    "import awkward as ak\n"
   ]
  },
  {
   "cell_type": "markdown",
   "metadata": {},
   "source": [
    "# Getting DataFrame, no osc samples"
   ]
  },
  {
   "cell_type": "code",
   "execution_count": null,
   "metadata": {},
   "outputs": [],
   "source": [
    "loc = \"BNBNuMI_TOsc_input_numifluxpatched/hist_rootfiles/\"\n",
    "\n",
    "beams = [\n",
    "    \"BNB\", \n",
    "    \"NuMI\",\n",
    "]\n",
    "\n",
    "runs = [\n",
    "    \"run1\",\n",
    "    \"run2\",\n",
    "    \"run3\",\n",
    "]\n",
    "\n",
    "horns = [\n",
    "    \"FHC\",\n",
    "    \"RHC\",\n",
    "]\n",
    "\n",
    "sels = [\n",
    "    (\"nueCC\", \"_FC\"),\n",
    "    (\"nueCC\", \"_PC\"),\n",
    "    (\"numuCC\", \"_FC\"),\n",
    "    (\"numuCC\", \"_PC\"),\n",
    "    (\"CCpi0\", \"_FC\"),\n",
    "    (\"CCpi0\", \"_PC\"),\n",
    "    (\"NCpi0\", \"\"),\n",
    "]\n",
    "\n",
    "filetypes = [\n",
    "    (\"intrinsic\", \"intnue\"), \n",
    "    (\"nu_overlay\", \"overlaynumu\"),\n",
    "    (\"dirt\", \"???\"),\n",
    "    (\"ext\", \"???\"),\n",
    "    (\"data\", \"???\"),\n",
    "]\n",
    "\n",
    "for beam in beams:\n",
    "    for filetype_pair in filetypes:\n",
    "        for run in runs:\n",
    "            for horn in horns:\n",
    "\n",
    "                if beam == \"NuMI\":\n",
    "                    beam = \"NuMI_\"+horn\n",
    "\n",
    "                filename = f\"roofile_obj_{beam}_{run}_{filetype_pair[0]}.root\"\n",
    "                print(loc+filename)\n",
    "                f = uproot.open(loc+filename)\n",
    "\n",
    "                for sel in sels:\n",
    "\n",
    "                    try:\n",
    "                        key = f\"tree_{sel[0]}_from_{filetype_pair[1]}{sel[1]}\"\n",
    "                        print(f\"    key: {key}, {f[key].keys()}\")\n",
    "                    except KeyError:\n",
    "                        #print(f\"    KeyError: {key}\")\n",
    "                        pass\n",
    "\n"
   ]
  },
  {
   "cell_type": "code",
   "execution_count": null,
   "metadata": {},
   "outputs": [],
   "source": []
  },
  {
   "cell_type": "code",
   "execution_count": null,
   "metadata": {},
   "outputs": [],
   "source": []
  },
  {
   "cell_type": "code",
   "execution_count": null,
   "metadata": {},
   "outputs": [],
   "source": []
  },
  {
   "cell_type": "code",
   "execution_count": null,
   "metadata": {},
   "outputs": [],
   "source": []
  }
 ],
 "metadata": {
  "kernelspec": {
   "display_name": "base_2",
   "language": "python",
   "name": "python3"
  },
  "language_info": {
   "codemirror_mode": {
    "name": "ipython",
    "version": 3
   },
   "file_extension": ".py",
   "mimetype": "text/x-python",
   "name": "python",
   "nbconvert_exporter": "python",
   "pygments_lexer": "ipython3",
   "version": "3.10.10"
  }
 },
 "nbformat": 4,
 "nbformat_minor": 2
}
